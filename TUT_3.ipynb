{
 "cells": [
  {
   "cell_type": "code",
   "execution_count": 1,
   "id": "d8218eb7",
   "metadata": {},
   "outputs": [],
   "source": [
    "import torch\n",
    "import pandas as pd \n",
    "import numpy as np \n",
    "import matplotlib.pyplot as plt"
   ]
  },
  {
   "cell_type": "code",
   "execution_count": 2,
   "id": "af3f128b",
   "metadata": {},
   "outputs": [],
   "source": [
    "#Numpy to tensor"
   ]
  },
  {
   "cell_type": "code",
   "execution_count": 3,
   "id": "81719a06",
   "metadata": {},
   "outputs": [
    {
     "data": {
      "text/plain": [
       "(array([1., 2., 3., 4., 5., 6., 7.]),\n",
       " tensor([1., 2., 3., 4., 5., 6., 7.], dtype=torch.float64))"
      ]
     },
     "execution_count": 3,
     "metadata": {},
     "output_type": "execute_result"
    }
   ],
   "source": [
    "array = np.arange(1.0,8.0)\n",
    "tensor = torch.from_numpy(array)\n",
    "array , tensor"
   ]
  },
  {
   "cell_type": "code",
   "execution_count": 4,
   "id": "c788b357",
   "metadata": {},
   "outputs": [
    {
     "data": {
      "text/plain": [
       "(array([2., 3., 4., 5., 6., 7., 8.]),\n",
       " tensor([1., 2., 3., 4., 5., 6., 7.], dtype=torch.float64))"
      ]
     },
     "execution_count": 4,
     "metadata": {},
     "output_type": "execute_result"
    }
   ],
   "source": [
    "array = array + 1\n",
    "array, tensor"
   ]
  },
  {
   "cell_type": "code",
   "execution_count": 5,
   "id": "55481ec9",
   "metadata": {},
   "outputs": [],
   "source": [
    "#Tensor to numpy"
   ]
  },
  {
   "cell_type": "code",
   "execution_count": 7,
   "id": "cc7bc6b8",
   "metadata": {},
   "outputs": [
    {
     "data": {
      "text/plain": [
       "(tensor([1., 1., 1., 1., 1., 1., 1.]),\n",
       " array([1., 1., 1., 1., 1., 1., 1.], dtype=float32))"
      ]
     },
     "execution_count": 7,
     "metadata": {},
     "output_type": "execute_result"
    }
   ],
   "source": [
    "tensor = torch.ones(7)\n",
    "numpy_tensor = tensor.numpy()\n",
    "tensor , numpy_tensor"
   ]
  },
  {
   "cell_type": "code",
   "execution_count": 8,
   "id": "c2569a09",
   "metadata": {},
   "outputs": [
    {
     "data": {
      "text/plain": [
       "(tensor([2., 2., 2., 2., 2., 2., 2.]),\n",
       " array([1., 1., 1., 1., 1., 1., 1.], dtype=float32))"
      ]
     },
     "execution_count": 8,
     "metadata": {},
     "output_type": "execute_result"
    }
   ],
   "source": [
    "tensor = tensor + 1\n",
    "tensor , numpy_tensor"
   ]
  },
  {
   "cell_type": "code",
   "execution_count": 9,
   "id": "db4a429d",
   "metadata": {},
   "outputs": [],
   "source": [
    "#Reproducbility"
   ]
  },
  {
   "cell_type": "code",
   "execution_count": 13,
   "id": "13416cee",
   "metadata": {},
   "outputs": [
    {
     "data": {
      "text/plain": [
       "(tensor([[0.8449, 0.6134, 0.0349, 0.4186],\n",
       "         [0.2449, 0.7368, 0.5971, 0.7395],\n",
       "         [0.4875, 0.4706, 0.1844, 0.4206]]),\n",
       " tensor([[0.4725, 0.7519, 0.1771, 0.9023],\n",
       "         [0.3435, 0.1298, 0.6525, 0.1781],\n",
       "         [0.6284, 0.8009, 0.5102, 0.1508]]))"
      ]
     },
     "execution_count": 13,
     "metadata": {},
     "output_type": "execute_result"
    }
   ],
   "source": [
    "r_t_1 = torch.rand(3,4)\n",
    "r_t_2 = torch.rand(3,4)\n",
    "r_t_1 , r_t_2"
   ]
  },
  {
   "cell_type": "code",
   "execution_count": 14,
   "id": "86a2dac4",
   "metadata": {},
   "outputs": [
    {
     "data": {
      "text/plain": [
       "tensor([[False, False, False, False],\n",
       "        [False, False, False, False],\n",
       "        [False, False, False, False]])"
      ]
     },
     "execution_count": 14,
     "metadata": {},
     "output_type": "execute_result"
    }
   ],
   "source": [
    "r_t_1 == r_t_2"
   ]
  },
  {
   "cell_type": "code",
   "execution_count": 15,
   "id": "d03a4e9f",
   "metadata": {},
   "outputs": [],
   "source": [
    "#Random but reproducible"
   ]
  },
  {
   "cell_type": "code",
   "execution_count": 19,
   "id": "b9b77eca",
   "metadata": {},
   "outputs": [
    {
     "data": {
      "text/plain": [
       "(tensor([[0.8823, 0.9150, 0.3829, 0.9593],\n",
       "         [0.3904, 0.6009, 0.2566, 0.7936],\n",
       "         [0.9408, 0.1332, 0.9346, 0.5936]]),\n",
       " tensor([[0.8823, 0.9150, 0.3829, 0.9593],\n",
       "         [0.3904, 0.6009, 0.2566, 0.7936],\n",
       "         [0.9408, 0.1332, 0.9346, 0.5936]]))"
      ]
     },
     "execution_count": 19,
     "metadata": {},
     "output_type": "execute_result"
    }
   ],
   "source": [
    "random_seed = 42\n",
    "torch.manual_seed(random_seed)\n",
    "r_t_3 = torch.rand(3,4)\n",
    "torch.manual_seed(random_seed)\n",
    "r_t_4 = torch.rand(3,4)\n",
    "\n",
    "r_t_3 , r_t_4"
   ]
  },
  {
   "cell_type": "code",
   "execution_count": 22,
   "id": "b42c6816",
   "metadata": {},
   "outputs": [
    {
     "data": {
      "text/plain": [
       "tensor([[True, True, True, True],\n",
       "        [True, True, True, True],\n",
       "        [True, True, True, True]])"
      ]
     },
     "execution_count": 22,
     "metadata": {},
     "output_type": "execute_result"
    }
   ],
   "source": [
    "r_t_3 == r_t_4"
   ]
  }
 ],
 "metadata": {
  "kernelspec": {
   "display_name": "Python 3 (ipykernel)",
   "language": "python",
   "name": "python3"
  },
  "language_info": {
   "codemirror_mode": {
    "name": "ipython",
    "version": 3
   },
   "file_extension": ".py",
   "mimetype": "text/x-python",
   "name": "python",
   "nbconvert_exporter": "python",
   "pygments_lexer": "ipython3",
   "version": "3.10.9"
  }
 },
 "nbformat": 4,
 "nbformat_minor": 5
}
