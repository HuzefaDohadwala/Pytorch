{
 "cells": [
  {
   "cell_type": "code",
   "execution_count": 1,
   "id": "9625cc88",
   "metadata": {},
   "outputs": [],
   "source": [
    "import torch\n",
    "import pandas as pd \n",
    "import numpy as np \n",
    "import matplotlib.pyplot as plt"
   ]
  },
  {
   "cell_type": "code",
   "execution_count": 2,
   "id": "ec03ed73",
   "metadata": {},
   "outputs": [],
   "source": [
    "#Matrix Multiplication"
   ]
  },
  {
   "cell_type": "code",
   "execution_count": 3,
   "id": "9fcfde78",
   "metadata": {},
   "outputs": [
    {
     "data": {
      "text/plain": [
       "tensor([[1, 2, 3],\n",
       "        [4, 5, 6],\n",
       "        [7, 8, 9]])"
      ]
     },
     "execution_count": 3,
     "metadata": {},
     "output_type": "execute_result"
    }
   ],
   "source": [
    "m_1 = torch.tensor([[1,2,3],\n",
    "                    [4,5,6],\n",
    "                    [7,8,9]\n",
    "])\n",
    "m_1"
   ]
  },
  {
   "cell_type": "code",
   "execution_count": 4,
   "id": "9878633d",
   "metadata": {},
   "outputs": [
    {
     "data": {
      "text/plain": [
       "tensor([[10, 22,  3],\n",
       "        [42, 50,  6],\n",
       "        [72,  8, 90]])"
      ]
     },
     "execution_count": 4,
     "metadata": {},
     "output_type": "execute_result"
    }
   ],
   "source": [
    "m_2 = torch.tensor([[10,22,3],\n",
    "                    [42,50,6],\n",
    "                    [72,8,90]\n",
    "])\n",
    "m_2"
   ]
  },
  {
   "cell_type": "code",
   "execution_count": 5,
   "id": "95ac8d19",
   "metadata": {},
   "outputs": [
    {
     "data": {
      "text/plain": [
       "tensor([[ 310,  146,  285],\n",
       "        [ 682,  386,  582],\n",
       "        [1054,  626,  879]])"
      ]
     },
     "execution_count": 5,
     "metadata": {},
     "output_type": "execute_result"
    }
   ],
   "source": [
    " torch.matmul(m_1 , m_2)"
   ]
  },
  {
   "cell_type": "code",
   "execution_count": 6,
   "id": "e0c69243",
   "metadata": {},
   "outputs": [],
   "source": [
    "#To fix tensor shape issue , use transpose"
   ]
  },
  {
   "cell_type": "code",
   "execution_count": 7,
   "id": "1cbcb7e8",
   "metadata": {},
   "outputs": [
    {
     "data": {
      "text/plain": [
       "tensor([[0.5917, 0.1945],\n",
       "        [0.2922, 0.2878],\n",
       "        [0.0269, 0.0115]])"
      ]
     },
     "execution_count": 7,
     "metadata": {},
     "output_type": "execute_result"
    }
   ],
   "source": [
    "m_3 = torch.rand(3,2)\n",
    "m_3"
   ]
  },
  {
   "cell_type": "code",
   "execution_count": 8,
   "id": "8e2d7e67",
   "metadata": {},
   "outputs": [
    {
     "data": {
      "text/plain": [
       "tensor([[0.0544, 0.9364],\n",
       "        [0.0591, 0.7422],\n",
       "        [0.7703, 0.1953]])"
      ]
     },
     "execution_count": 8,
     "metadata": {},
     "output_type": "execute_result"
    }
   ],
   "source": [
    "m_4 = torch.rand(3,2)\n",
    "m_4"
   ]
  },
  {
   "cell_type": "code",
   "execution_count": 9,
   "id": "f3806f0b",
   "metadata": {},
   "outputs": [
    {
     "data": {
      "text/plain": [
       "(tensor([[0.5917, 0.2922, 0.0269],\n",
       "         [0.1945, 0.2878, 0.0115]]),\n",
       " torch.Size([2, 3]))"
      ]
     },
     "execution_count": 9,
     "metadata": {},
     "output_type": "execute_result"
    }
   ],
   "source": [
    "m_3.T , m_3.T.shape"
   ]
  },
  {
   "cell_type": "code",
   "execution_count": 10,
   "id": "ab81ac9c",
   "metadata": {},
   "outputs": [
    {
     "data": {
      "text/plain": [
       "tensor([[0.0702, 0.7762],\n",
       "        [0.0364, 0.3980]])"
      ]
     },
     "execution_count": 10,
     "metadata": {},
     "output_type": "execute_result"
    }
   ],
   "source": [
    "torch.matmul(m_3.T , m_4)"
   ]
  },
  {
   "cell_type": "code",
   "execution_count": 11,
   "id": "73757dba",
   "metadata": {},
   "outputs": [
    {
     "data": {
      "text/plain": [
       "(tensor(1), tensor(1))"
      ]
     },
     "execution_count": 11,
     "metadata": {},
     "output_type": "execute_result"
    }
   ],
   "source": [
    "torch.min(m_1) , m_1.min()"
   ]
  },
  {
   "cell_type": "code",
   "execution_count": 12,
   "id": "b3d984c3",
   "metadata": {},
   "outputs": [
    {
     "data": {
      "text/plain": [
       "(tensor(90), tensor(90))"
      ]
     },
     "execution_count": 12,
     "metadata": {},
     "output_type": "execute_result"
    }
   ],
   "source": [
    "torch.max(m_2) , m_2.max()"
   ]
  },
  {
   "cell_type": "code",
   "execution_count": 13,
   "id": "8e864526",
   "metadata": {},
   "outputs": [
    {
     "data": {
      "text/plain": [
       "tensor(5.)"
      ]
     },
     "execution_count": 13,
     "metadata": {},
     "output_type": "execute_result"
    }
   ],
   "source": [
    "torch.mean(m_1.type(torch.float32)) #chnage data type else error"
   ]
  },
  {
   "cell_type": "code",
   "execution_count": 14,
   "id": "7eb1edf0",
   "metadata": {},
   "outputs": [
    {
     "data": {
      "text/plain": [
       "(tensor(45), tensor(45))"
      ]
     },
     "execution_count": 14,
     "metadata": {},
     "output_type": "execute_result"
    }
   ],
   "source": [
    "torch.sum(m_1) , m_1.sum()"
   ]
  },
  {
   "cell_type": "code",
   "execution_count": 15,
   "id": "64715716",
   "metadata": {},
   "outputs": [],
   "source": [
    "#index which has min/max value"
   ]
  },
  {
   "cell_type": "code",
   "execution_count": 16,
   "id": "7944197f",
   "metadata": {},
   "outputs": [
    {
     "data": {
      "text/plain": [
       "(tensor(0), tensor(2))"
      ]
     },
     "execution_count": 16,
     "metadata": {},
     "output_type": "execute_result"
    }
   ],
   "source": [
    "m_1.argmin() , m_2.argmin()"
   ]
  },
  {
   "cell_type": "code",
   "execution_count": 17,
   "id": "c179789d",
   "metadata": {},
   "outputs": [
    {
     "data": {
      "text/plain": [
       "(tensor([1, 2, 3]), tensor([72,  8, 90]))"
      ]
     },
     "execution_count": 17,
     "metadata": {},
     "output_type": "execute_result"
    }
   ],
   "source": [
    "m_1[0] , m_2[2]"
   ]
  },
  {
   "cell_type": "code",
   "execution_count": 18,
   "id": "b222ceda",
   "metadata": {},
   "outputs": [
    {
     "data": {
      "text/plain": [
       "tensor([[1, 2, 3, 4, 5, 6, 7, 8, 9]])"
      ]
     },
     "execution_count": 18,
     "metadata": {},
     "output_type": "execute_result"
    }
   ],
   "source": [
    "m_1.reshape(1,9) #the product of the numbers in the bracket should be equal to number of elements in original matrix "
   ]
  },
  {
   "cell_type": "code",
   "execution_count": 19,
   "id": "0a5587e6",
   "metadata": {},
   "outputs": [
    {
     "data": {
      "text/plain": [
       "tensor([[1],\n",
       "        [2],\n",
       "        [3],\n",
       "        [4],\n",
       "        [5],\n",
       "        [6],\n",
       "        [7],\n",
       "        [8],\n",
       "        [9]])"
      ]
     },
     "execution_count": 19,
     "metadata": {},
     "output_type": "execute_result"
    }
   ],
   "source": [
    "m_1.reshape(9,1)"
   ]
  },
  {
   "cell_type": "code",
   "execution_count": 20,
   "id": "6bde445d",
   "metadata": {},
   "outputs": [],
   "source": [
    "#view chnages orginal matrix coz they share same memory"
   ]
  },
  {
   "cell_type": "code",
   "execution_count": 21,
   "id": "5250db3a",
   "metadata": {},
   "outputs": [
    {
     "data": {
      "text/plain": [
       "tensor([[10, 22,  3],\n",
       "        [42, 50,  6],\n",
       "        [72,  8, 90]])"
      ]
     },
     "execution_count": 21,
     "metadata": {},
     "output_type": "execute_result"
    }
   ],
   "source": [
    "m_2"
   ]
  },
  {
   "cell_type": "code",
   "execution_count": 22,
   "id": "a9d8da03",
   "metadata": {},
   "outputs": [
    {
     "data": {
      "text/plain": [
       "tensor([[10, 22,  3, 42, 50,  6, 72,  8, 90]])"
      ]
     },
     "execution_count": 22,
     "metadata": {},
     "output_type": "execute_result"
    }
   ],
   "source": [
    "z=m_2.view(1,9)\n",
    "z"
   ]
  },
  {
   "cell_type": "code",
   "execution_count": 23,
   "id": "da72ffc4",
   "metadata": {},
   "outputs": [
    {
     "data": {
      "text/plain": [
       "(tensor([[ 5, 22,  3, 42, 50,  6, 72,  8, 90]]),\n",
       " tensor([[ 5, 22,  3],\n",
       "         [42, 50,  6],\n",
       "         [72,  8, 90]]))"
      ]
     },
     "execution_count": 23,
     "metadata": {},
     "output_type": "execute_result"
    }
   ],
   "source": [
    "z[:,0] =5 \n",
    "z , m_2"
   ]
  },
  {
   "cell_type": "code",
   "execution_count": 24,
   "id": "0c0b3321",
   "metadata": {},
   "outputs": [
    {
     "data": {
      "text/plain": [
       "tensor([[[ 5, 22,  3, 42, 50,  6, 72,  8, 90]],\n",
       "\n",
       "        [[ 5, 22,  3, 42, 50,  6, 72,  8, 90]],\n",
       "\n",
       "        [[ 5, 22,  3, 42, 50,  6, 72,  8, 90]],\n",
       "\n",
       "        [[ 5, 22,  3, 42, 50,  6, 72,  8, 90]]])"
      ]
     },
     "execution_count": 24,
     "metadata": {},
     "output_type": "execute_result"
    }
   ],
   "source": [
    "stack_m = torch.stack([z,z,z,z], dim=0)\n",
    "stack_m"
   ]
  },
  {
   "cell_type": "code",
   "execution_count": 25,
   "id": "fda2019a",
   "metadata": {},
   "outputs": [
    {
     "data": {
      "text/plain": [
       "tensor([[[ 5,  5,  5,  5],\n",
       "         [22, 22, 22, 22],\n",
       "         [ 3,  3,  3,  3],\n",
       "         [42, 42, 42, 42],\n",
       "         [50, 50, 50, 50],\n",
       "         [ 6,  6,  6,  6],\n",
       "         [72, 72, 72, 72],\n",
       "         [ 8,  8,  8,  8],\n",
       "         [90, 90, 90, 90]]])"
      ]
     },
     "execution_count": 25,
     "metadata": {},
     "output_type": "execute_result"
    }
   ],
   "source": [
    "stack_m = torch.stack([z,z,z,z], dim=2)\n",
    "stack_m"
   ]
  },
  {
   "cell_type": "code",
   "execution_count": 26,
   "id": "bcfb88d4",
   "metadata": {},
   "outputs": [
    {
     "data": {
      "text/plain": [
       "(tensor([ 5, 22,  3, 42, 50,  6, 72,  8, 90]), torch.Size([9]))"
      ]
     },
     "execution_count": 26,
     "metadata": {},
     "output_type": "execute_result"
    }
   ],
   "source": [
    "z.squeeze() , z.squeeze().shape"
   ]
  },
  {
   "cell_type": "code",
   "execution_count": 27,
   "id": "9cb2fabf",
   "metadata": {},
   "outputs": [
    {
     "data": {
      "text/plain": [
       "tensor([[[ 5, 22,  3, 42, 50,  6, 72,  8, 90]]])"
      ]
     },
     "execution_count": 27,
     "metadata": {},
     "output_type": "execute_result"
    }
   ],
   "source": [
    "torch.unsqueeze(z,1)"
   ]
  },
  {
   "cell_type": "code",
   "execution_count": 28,
   "id": "a29b1bbf",
   "metadata": {},
   "outputs": [
    {
     "data": {
      "text/plain": [
       "torch.Size([224, 224, 3])"
      ]
     },
     "execution_count": 28,
     "metadata": {},
     "output_type": "execute_result"
    }
   ],
   "source": [
    "img = torch.rand(size=(224,224,3))\n",
    "#Permute \n",
    "\n",
    "\n",
    "img_p = img.permute(2,0,1)\n",
    "\n",
    "img.shape #height , width ,colour"
   ]
  },
  {
   "cell_type": "code",
   "execution_count": 29,
   "id": "eaab0b9a",
   "metadata": {},
   "outputs": [
    {
     "data": {
      "text/plain": [
       "torch.Size([3, 224, 224])"
      ]
     },
     "execution_count": 29,
     "metadata": {},
     "output_type": "execute_result"
    }
   ],
   "source": [
    "img_p.shape #colour , height , width"
   ]
  },
  {
   "cell_type": "code",
   "execution_count": 30,
   "id": "eb4bd09b",
   "metadata": {},
   "outputs": [],
   "source": [
    "#Indexing"
   ]
  },
  {
   "cell_type": "code",
   "execution_count": 31,
   "id": "efe9c940",
   "metadata": {},
   "outputs": [
    {
     "data": {
      "text/plain": [
       "tensor([[[1, 2, 3],\n",
       "         [4, 5, 6],\n",
       "         [7, 8, 9]]])"
      ]
     },
     "execution_count": 31,
     "metadata": {},
     "output_type": "execute_result"
    }
   ],
   "source": [
    "x = torch.arange(1,10).reshape(1,3,3)\n",
    "x"
   ]
  },
  {
   "cell_type": "code",
   "execution_count": 32,
   "id": "15c6ed73",
   "metadata": {},
   "outputs": [
    {
     "data": {
      "text/plain": [
       "tensor([[1, 2, 3],\n",
       "        [4, 5, 6],\n",
       "        [7, 8, 9]])"
      ]
     },
     "execution_count": 32,
     "metadata": {},
     "output_type": "execute_result"
    }
   ],
   "source": [
    "x[0]"
   ]
  },
  {
   "cell_type": "code",
   "execution_count": 36,
   "id": "bedbe3ae",
   "metadata": {},
   "outputs": [
    {
     "data": {
      "text/plain": [
       "tensor([1, 2, 3])"
      ]
     },
     "execution_count": 36,
     "metadata": {},
     "output_type": "execute_result"
    }
   ],
   "source": [
    "x[0,0]"
   ]
  },
  {
   "cell_type": "code",
   "execution_count": 35,
   "id": "32209357",
   "metadata": {},
   "outputs": [
    {
     "data": {
      "text/plain": [
       "tensor(1)"
      ]
     },
     "execution_count": 35,
     "metadata": {},
     "output_type": "execute_result"
    }
   ],
   "source": [
    "x[0,0,0]"
   ]
  },
  {
   "cell_type": "code",
   "execution_count": null,
   "id": "2d73574b",
   "metadata": {},
   "outputs": [],
   "source": []
  }
 ],
 "metadata": {
  "kernelspec": {
   "display_name": "Python 3 (ipykernel)",
   "language": "python",
   "name": "python3"
  },
  "language_info": {
   "codemirror_mode": {
    "name": "ipython",
    "version": 3
   },
   "file_extension": ".py",
   "mimetype": "text/x-python",
   "name": "python",
   "nbconvert_exporter": "python",
   "pygments_lexer": "ipython3",
   "version": "3.10.9"
  }
 },
 "nbformat": 4,
 "nbformat_minor": 5
}
